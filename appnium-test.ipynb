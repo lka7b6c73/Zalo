{
 "cells": [
  {
   "cell_type": "code",
   "execution_count": 22,
   "metadata": {},
   "outputs": [],
   "source": [
    "from appium import webdriver\n",
    "from appium.options.android import UiAutomator2Options\n",
    "from selenium.webdriver.common.by import By\n",
    "import time"
   ]
  },
  {
   "cell_type": "code",
   "execution_count": 4,
   "metadata": {},
   "outputs": [],
   "source": [
    "\n",
    "desired_cap = {\n",
    "    \"platformName\": \"Android\",\n",
    "    \"deviceName\": \"ce041604dd5add3703\", \n",
    "    \"appPackage\": \"com.zing.zalo\",  \n",
    "    \"appActivity\": \"com.zing.zalo.ui.ZaloLauncherActivity\" \n",
    "}\n",
    "\n",
    "\n"
   ]
  },
  {
   "cell_type": "code",
   "execution_count": 25,
   "metadata": {},
   "outputs": [],
   "source": [
    "# Cấu hình desired capabilities\n",
    "options = UiAutomator2Options()\n",
    "options.platform_name = \"Android\"\n",
    "options.device_name = \"ce041604dd5add3703\"  # ID thiết bị\n",
    "options.app_package = \"com.zing.zalo\"  # Gói ứng dụng Zalo\n",
    "options.app_activity = \"com.zing.zalo.ui.ZaloLauncherActivity\"  # Activity đăng nhập của Zalo\n",
    "\n",
    "# Khởi tạo driver\n",
    "driver = webdriver.Remote(\"http://localhost:5555/wd/hub\", options=options )"
   ]
  },
  {
   "cell_type": "code",
   "execution_count": 26,
   "metadata": {},
   "outputs": [],
   "source": [
    "login_button = driver.find_element(By.ID, \"com.zing.zalo:id/btnLogin\")\n",
    "login_button.click()"
   ]
  },
  {
   "cell_type": "code",
   "execution_count": 27,
   "metadata": {},
   "outputs": [],
   "source": [
    "access_button1 = driver.find_element(By.ID, \"com.android.packageinstaller:id/permission_allow_button\")\n",
    "access_button1.click()\n",
    "access_button2 = driver.find_element(By.ID, \"com.android.packageinstaller:id/permission_allow_button\")\n",
    "access_button2.click()\n"
   ]
  },
  {
   "cell_type": "code",
   "execution_count": 17,
   "metadata": {},
   "outputs": [
    {
     "ename": "InvalidSessionIdException",
     "evalue": "Message: A session is either terminated or not started\nStacktrace:\nNoSuchDriverError: A session is either terminated or not started\n    at asyncHandler (C:\\Program Files\\Appium\\resources\\app\\node_modules\\appium\\node_modules\\appium-base-driver\\lib\\protocol\\protocol.js:243:15)\n    at C:\\Program Files\\Appium\\resources\\app\\node_modules\\appium\\node_modules\\appium-base-driver\\lib\\protocol\\protocol.js:423:15\n    at Layer.handle [as handle_request] (C:\\Program Files\\Appium\\resources\\app\\node_modules\\appium\\node_modules\\express\\lib\\router\\layer.js:95:5)\n    at next (C:\\Program Files\\Appium\\resources\\app\\node_modules\\appium\\node_modules\\express\\lib\\router\\route.js:137:13)\n    at Route.dispatch (C:\\Program Files\\Appium\\resources\\app\\node_modules\\appium\\node_modules\\express\\lib\\router\\route.js:112:3)\n    at Layer.handle [as handle_request] (C:\\Program Files\\Appium\\resources\\app\\node_modules\\appium\\node_modules\\express\\lib\\router\\layer.js:95:5)\n    at C:\\Program Files\\Appium\\resources\\app\\node_modules\\appium\\node_modules\\express\\lib\\router\\index.js:281:22\n    at param (C:\\Program Files\\Appium\\resources\\app\\node_modules\\appium\\node_modules\\express\\lib\\router\\index.js:354:14)\n    at param (C:\\Program Files\\Appium\\resources\\app\\node_modules\\appium\\node_modules\\express\\lib\\router\\index.js:365:14)\n    at Function.process_params (C:\\Program Files\\Appium\\resources\\app\\node_modules\\appium\\node_modules\\express\\lib\\router\\index.js:410:3)\n    at next (C:\\Program Files\\Appium\\resources\\app\\node_modules\\appium\\node_modules\\express\\lib\\router\\index.js:275:10)\n    at logger (C:\\Program Files\\Appium\\resources\\app\\node_modules\\appium\\node_modules\\morgan\\index.js:144:5)\n    at Layer.handle [as handle_request] (C:\\Program Files\\Appium\\resources\\app\\node_modules\\appium\\node_modules\\express\\lib\\router\\layer.js:95:5)\n    at trim_prefix (C:\\Program Files\\Appium\\resources\\app\\node_modules\\appium\\node_modules\\express\\lib\\router\\index.js:317:13)\n    at C:\\Program Files\\Appium\\resources\\app\\node_modules\\appium\\node_modules\\express\\lib\\router\\index.js:284:7\n    at Function.process_params (C:\\Program Files\\Appium\\resources\\app\\node_modules\\appium\\node_modules\\express\\lib\\router\\index.js:335:12)\n    at next (C:\\Program Files\\Appium\\resources\\app\\node_modules\\appium\\node_modules\\express\\lib\\router\\index.js:275:10)\n    at C:\\Program Files\\Appium\\resources\\app\\node_modules\\appium\\node_modules\\body-parser\\lib\\read.js:130:5\n    at invokeCallback (C:\\Program Files\\Appium\\resources\\app\\node_modules\\appium\\node_modules\\raw-body\\index.js:224:16)\n    at done (C:\\Program Files\\Appium\\resources\\app\\node_modules\\appium\\node_modules\\raw-body\\index.js:213:7)\n    at IncomingMessage.onEnd (C:\\Program Files\\Appium\\resources\\app\\node_modules\\appium\\node_modules\\raw-body\\index.js:273:7)\n    at IncomingMessage.emit (events.js:208:15)\n    at endReadableNT (_stream_readable.js:1168:12)\n    at processTicksAndRejections (internal/process/task_queues.js:77:11)",
     "output_type": "error",
     "traceback": [
      "\u001b[1;31m---------------------------------------------------------------------------\u001b[0m",
      "\u001b[1;31mInvalidSessionIdException\u001b[0m                 Traceback (most recent call last)",
      "Cell \u001b[1;32mIn[17], line 1\u001b[0m\n\u001b[1;32m----> 1\u001b[0m click_zalo \u001b[38;5;241m=\u001b[39m \u001b[43mdriver\u001b[49m\u001b[38;5;241;43m.\u001b[39;49m\u001b[43mfind_element\u001b[49m\u001b[43m(\u001b[49m\u001b[43mBy\u001b[49m\u001b[38;5;241;43m.\u001b[39;49m\u001b[43mXPATH\u001b[49m\u001b[43m,\u001b[49m\u001b[43m \u001b[49m\u001b[38;5;124;43m\"\u001b[39;49m\u001b[38;5;124;43m//android.widget.TextView[@content-desc=\u001b[39;49m\u001b[38;5;124;43m'\u001b[39;49m\u001b[38;5;124;43mZalo\u001b[39;49m\u001b[38;5;124;43m'\u001b[39;49m\u001b[38;5;124;43m]\u001b[39;49m\u001b[38;5;124;43m\"\u001b[39;49m\u001b[43m)\u001b[49m\n\u001b[0;32m      2\u001b[0m click_zalo\u001b[38;5;241m.\u001b[39mclick()\n",
      "File \u001b[1;32md:\\Learn\\Zalo_crawls\\zaloenv\\Lib\\site-packages\\appium\\webdriver\\webdriver.py:371\u001b[0m, in \u001b[0;36mWebDriver.find_element\u001b[1;34m(self, by, value)\u001b[0m\n\u001b[0;32m    342\u001b[0m \u001b[38;5;250m\u001b[39m\u001b[38;5;124;03m\"\"\"\u001b[39;00m\n\u001b[0;32m    343\u001b[0m \u001b[38;5;124;03mFind an element given a AppiumBy strategy and locator\u001b[39;00m\n\u001b[0;32m    344\u001b[0m \n\u001b[1;32m   (...)\u001b[0m\n\u001b[0;32m    354\u001b[0m \n\u001b[0;32m    355\u001b[0m \u001b[38;5;124;03m\"\"\"\u001b[39;00m\n\u001b[0;32m    356\u001b[0m \u001b[38;5;66;03m# We prefer to patch locators in the client code\u001b[39;00m\n\u001b[0;32m    357\u001b[0m \u001b[38;5;66;03m# Checking current context every time a locator is accessed could significantly slow down tests\u001b[39;00m\n\u001b[0;32m    358\u001b[0m \u001b[38;5;66;03m# Check https://github.com/appium/python-client/pull/724 before submitting any issue\u001b[39;00m\n\u001b[1;32m   (...)\u001b[0m\n\u001b[0;32m    368\u001b[0m \u001b[38;5;66;03m#     by = By.CSS_SELECTOR\u001b[39;00m\n\u001b[0;32m    369\u001b[0m \u001b[38;5;66;03m#     value = '[name=\"%s\"]' % value\u001b[39;00m\n\u001b[1;32m--> 371\u001b[0m \u001b[38;5;28;01mreturn\u001b[39;00m \u001b[38;5;28;43mself\u001b[39;49m\u001b[38;5;241;43m.\u001b[39;49m\u001b[43mexecute\u001b[49m\u001b[43m(\u001b[49m\u001b[43mRemoteCommand\u001b[49m\u001b[38;5;241;43m.\u001b[39;49m\u001b[43mFIND_ELEMENT\u001b[49m\u001b[43m,\u001b[49m\u001b[43m \u001b[49m\u001b[43m{\u001b[49m\u001b[38;5;124;43m'\u001b[39;49m\u001b[38;5;124;43musing\u001b[39;49m\u001b[38;5;124;43m'\u001b[39;49m\u001b[43m:\u001b[49m\u001b[43m \u001b[49m\u001b[43mby\u001b[49m\u001b[43m,\u001b[49m\u001b[43m \u001b[49m\u001b[38;5;124;43m'\u001b[39;49m\u001b[38;5;124;43mvalue\u001b[39;49m\u001b[38;5;124;43m'\u001b[39;49m\u001b[43m:\u001b[49m\u001b[43m \u001b[49m\u001b[43mvalue\u001b[49m\u001b[43m}\u001b[49m\u001b[43m)\u001b[49m[\u001b[38;5;124m'\u001b[39m\u001b[38;5;124mvalue\u001b[39m\u001b[38;5;124m'\u001b[39m]\n",
      "File \u001b[1;32md:\\Learn\\Zalo_crawls\\zaloenv\\Lib\\site-packages\\selenium\\webdriver\\remote\\webdriver.py:384\u001b[0m, in \u001b[0;36mWebDriver.execute\u001b[1;34m(self, driver_command, params)\u001b[0m\n\u001b[0;32m    382\u001b[0m response \u001b[38;5;241m=\u001b[39m \u001b[38;5;28mself\u001b[39m\u001b[38;5;241m.\u001b[39mcommand_executor\u001b[38;5;241m.\u001b[39mexecute(driver_command, params)\n\u001b[0;32m    383\u001b[0m \u001b[38;5;28;01mif\u001b[39;00m response:\n\u001b[1;32m--> 384\u001b[0m     \u001b[38;5;28;43mself\u001b[39;49m\u001b[38;5;241;43m.\u001b[39;49m\u001b[43merror_handler\u001b[49m\u001b[38;5;241;43m.\u001b[39;49m\u001b[43mcheck_response\u001b[49m\u001b[43m(\u001b[49m\u001b[43mresponse\u001b[49m\u001b[43m)\u001b[49m\n\u001b[0;32m    385\u001b[0m     response[\u001b[38;5;124m\"\u001b[39m\u001b[38;5;124mvalue\u001b[39m\u001b[38;5;124m\"\u001b[39m] \u001b[38;5;241m=\u001b[39m \u001b[38;5;28mself\u001b[39m\u001b[38;5;241m.\u001b[39m_unwrap_value(response\u001b[38;5;241m.\u001b[39mget(\u001b[38;5;124m\"\u001b[39m\u001b[38;5;124mvalue\u001b[39m\u001b[38;5;124m\"\u001b[39m, \u001b[38;5;28;01mNone\u001b[39;00m))\n\u001b[0;32m    386\u001b[0m     \u001b[38;5;28;01mreturn\u001b[39;00m response\n",
      "File \u001b[1;32md:\\Learn\\Zalo_crawls\\zaloenv\\Lib\\site-packages\\appium\\webdriver\\errorhandler.py:30\u001b[0m, in \u001b[0;36mMobileErrorHandler.check_response\u001b[1;34m(self, response)\u001b[0m\n\u001b[0;32m     28\u001b[0m \u001b[38;5;28;01mif\u001b[39;00m wde\u001b[38;5;241m.\u001b[39mmsg \u001b[38;5;241m==\u001b[39m \u001b[38;5;124m'\u001b[39m\u001b[38;5;124mNo such context found.\u001b[39m\u001b[38;5;124m'\u001b[39m:\n\u001b[0;32m     29\u001b[0m     \u001b[38;5;28;01mraise\u001b[39;00m NoSuchContextException(wde\u001b[38;5;241m.\u001b[39mmsg, wde\u001b[38;5;241m.\u001b[39mscreen, wde\u001b[38;5;241m.\u001b[39mstacktrace) \u001b[38;5;28;01mfrom\u001b[39;00m \u001b[38;5;21;01mwde\u001b[39;00m\n\u001b[1;32m---> 30\u001b[0m \u001b[38;5;28;01mraise\u001b[39;00m wde\n",
      "File \u001b[1;32md:\\Learn\\Zalo_crawls\\zaloenv\\Lib\\site-packages\\appium\\webdriver\\errorhandler.py:26\u001b[0m, in \u001b[0;36mMobileErrorHandler.check_response\u001b[1;34m(self, response)\u001b[0m\n\u001b[0;32m     24\u001b[0m \u001b[38;5;28;01mdef\u001b[39;00m \u001b[38;5;21mcheck_response\u001b[39m(\u001b[38;5;28mself\u001b[39m, response: Dict) \u001b[38;5;241m-\u001b[39m\u001b[38;5;241m>\u001b[39m \u001b[38;5;28;01mNone\u001b[39;00m:\n\u001b[0;32m     25\u001b[0m     \u001b[38;5;28;01mtry\u001b[39;00m:\n\u001b[1;32m---> 26\u001b[0m         \u001b[38;5;28;43msuper\u001b[39;49m\u001b[43m(\u001b[49m\u001b[43m)\u001b[49m\u001b[38;5;241;43m.\u001b[39;49m\u001b[43mcheck_response\u001b[49m\u001b[43m(\u001b[49m\u001b[43mresponse\u001b[49m\u001b[43m)\u001b[49m\n\u001b[0;32m     27\u001b[0m     \u001b[38;5;28;01mexcept\u001b[39;00m WebDriverException \u001b[38;5;28;01mas\u001b[39;00m wde:\n\u001b[0;32m     28\u001b[0m         \u001b[38;5;28;01mif\u001b[39;00m wde\u001b[38;5;241m.\u001b[39mmsg \u001b[38;5;241m==\u001b[39m \u001b[38;5;124m'\u001b[39m\u001b[38;5;124mNo such context found.\u001b[39m\u001b[38;5;124m'\u001b[39m:\n",
      "File \u001b[1;32md:\\Learn\\Zalo_crawls\\zaloenv\\Lib\\site-packages\\selenium\\webdriver\\remote\\errorhandler.py:232\u001b[0m, in \u001b[0;36mErrorHandler.check_response\u001b[1;34m(self, response)\u001b[0m\n\u001b[0;32m    230\u001b[0m         alert_text \u001b[38;5;241m=\u001b[39m value[\u001b[38;5;124m\"\u001b[39m\u001b[38;5;124malert\u001b[39m\u001b[38;5;124m\"\u001b[39m]\u001b[38;5;241m.\u001b[39mget(\u001b[38;5;124m\"\u001b[39m\u001b[38;5;124mtext\u001b[39m\u001b[38;5;124m\"\u001b[39m)\n\u001b[0;32m    231\u001b[0m     \u001b[38;5;28;01mraise\u001b[39;00m exception_class(message, screen, stacktrace, alert_text)  \u001b[38;5;66;03m# type: ignore[call-arg]  # mypy is not smart enough here\u001b[39;00m\n\u001b[1;32m--> 232\u001b[0m \u001b[38;5;28;01mraise\u001b[39;00m exception_class(message, screen, stacktrace)\n",
      "\u001b[1;31mInvalidSessionIdException\u001b[0m: Message: A session is either terminated or not started\nStacktrace:\nNoSuchDriverError: A session is either terminated or not started\n    at asyncHandler (C:\\Program Files\\Appium\\resources\\app\\node_modules\\appium\\node_modules\\appium-base-driver\\lib\\protocol\\protocol.js:243:15)\n    at C:\\Program Files\\Appium\\resources\\app\\node_modules\\appium\\node_modules\\appium-base-driver\\lib\\protocol\\protocol.js:423:15\n    at Layer.handle [as handle_request] (C:\\Program Files\\Appium\\resources\\app\\node_modules\\appium\\node_modules\\express\\lib\\router\\layer.js:95:5)\n    at next (C:\\Program Files\\Appium\\resources\\app\\node_modules\\appium\\node_modules\\express\\lib\\router\\route.js:137:13)\n    at Route.dispatch (C:\\Program Files\\Appium\\resources\\app\\node_modules\\appium\\node_modules\\express\\lib\\router\\route.js:112:3)\n    at Layer.handle [as handle_request] (C:\\Program Files\\Appium\\resources\\app\\node_modules\\appium\\node_modules\\express\\lib\\router\\layer.js:95:5)\n    at C:\\Program Files\\Appium\\resources\\app\\node_modules\\appium\\node_modules\\express\\lib\\router\\index.js:281:22\n    at param (C:\\Program Files\\Appium\\resources\\app\\node_modules\\appium\\node_modules\\express\\lib\\router\\index.js:354:14)\n    at param (C:\\Program Files\\Appium\\resources\\app\\node_modules\\appium\\node_modules\\express\\lib\\router\\index.js:365:14)\n    at Function.process_params (C:\\Program Files\\Appium\\resources\\app\\node_modules\\appium\\node_modules\\express\\lib\\router\\index.js:410:3)\n    at next (C:\\Program Files\\Appium\\resources\\app\\node_modules\\appium\\node_modules\\express\\lib\\router\\index.js:275:10)\n    at logger (C:\\Program Files\\Appium\\resources\\app\\node_modules\\appium\\node_modules\\morgan\\index.js:144:5)\n    at Layer.handle [as handle_request] (C:\\Program Files\\Appium\\resources\\app\\node_modules\\appium\\node_modules\\express\\lib\\router\\layer.js:95:5)\n    at trim_prefix (C:\\Program Files\\Appium\\resources\\app\\node_modules\\appium\\node_modules\\express\\lib\\router\\index.js:317:13)\n    at C:\\Program Files\\Appium\\resources\\app\\node_modules\\appium\\node_modules\\express\\lib\\router\\index.js:284:7\n    at Function.process_params (C:\\Program Files\\Appium\\resources\\app\\node_modules\\appium\\node_modules\\express\\lib\\router\\index.js:335:12)\n    at next (C:\\Program Files\\Appium\\resources\\app\\node_modules\\appium\\node_modules\\express\\lib\\router\\index.js:275:10)\n    at C:\\Program Files\\Appium\\resources\\app\\node_modules\\appium\\node_modules\\body-parser\\lib\\read.js:130:5\n    at invokeCallback (C:\\Program Files\\Appium\\resources\\app\\node_modules\\appium\\node_modules\\raw-body\\index.js:224:16)\n    at done (C:\\Program Files\\Appium\\resources\\app\\node_modules\\appium\\node_modules\\raw-body\\index.js:213:7)\n    at IncomingMessage.onEnd (C:\\Program Files\\Appium\\resources\\app\\node_modules\\appium\\node_modules\\raw-body\\index.js:273:7)\n    at IncomingMessage.emit (events.js:208:15)\n    at endReadableNT (_stream_readable.js:1168:12)\n    at processTicksAndRejections (internal/process/task_queues.js:77:11)"
     ]
    }
   ],
   "source": [
    "# click_zalo = driver.find_element(By.XPATH, \"//android.widget.TextView[@content-desc='Zalo']\")\n",
    "# click_zalo.click()"
   ]
  },
  {
   "cell_type": "code",
   "execution_count": 28,
   "metadata": {},
   "outputs": [],
   "source": [
    "numberphone = driver.find_element(By.ID, \"com.zing.zalo:id/edtAccount\")\n",
    "numberphone.send_keys(\"0985135941\")\n",
    "time.sleep(1)\n",
    "password = driver.find_element(By.ID, \"com.zing.zalo:id/edtPass\")\n",
    "password.send_keys(\"Lkcntt2mtak55\")\n",
    "time.sleep(1)\n",
    "btn_login = driver.find_element(By.ID, \"com.zing.zalo:id/btnLogin\")\n",
    "btn_login.click()\n",
    "\n"
   ]
  },
  {
   "cell_type": "code",
   "execution_count": 30,
   "metadata": {},
   "outputs": [],
   "source": [
    "btn_skip = driver.find_element(By.ID, \"com.zing.zalo:id/btn_skip\")\n",
    "btn_skip.click()\t\n",
    "time.sleep(2)\n",
    "btn_skip2 = driver.find_element(By.XPATH, \"/hierarchy/android.widget.FrameLayout/android.widget.LinearLayout/android.widget.FrameLayout/android.widget.LinearLayout/android.widget.LinearLayout[2]/android.widget.RelativeLayout[2]/android.widget.RelativeLayout/android.widget.Button\")\n",
    "btn_skip2.click()\n",
    "time.sleep(2)\n",
    "access_button1 = driver.find_element(By.ID, \"com.android.packageinstaller:id/permission_allow_button\")\n",
    "access_button1.click()\n",
    "access_button2 = driver.find_element(By.ID, \"com.android.packageinstaller:id/permission_allow_button\")\n",
    "access_button2.click()\n",
    "access_button3 = driver.find_element(By.ID, \"com.android.packageinstaller:id/permission_allow_button\")\n",
    "access_button3.click()"
   ]
  },
  {
   "cell_type": "code",
   "execution_count": null,
   "metadata": {},
   "outputs": [],
   "source": [
    "btn_cloud = driver.find_element(By.XPATH, \"/hierarchy/android.widget.FrameLayout/android.widget.LinearLayout/android.widget.FrameLayout/android.widget.FrameLayout/android.widget.FrameLayout/android.widget.FrameLayout/ViewPager/android.widget.FrameLayout/android.widget.FrameLayout/android.widget.LinearLayout/android.widget.FrameLayout/androidx.recyclerview.widget.RecyclerView/android.widget.FrameLayout[2]\")\n",
    "btn_cloud.click()\n",
    "time.sleep(2)\n"
   ]
  }
 ],
 "metadata": {
  "kernelspec": {
   "display_name": "zaloenv",
   "language": "python",
   "name": "python3"
  },
  "language_info": {
   "codemirror_mode": {
    "name": "ipython",
    "version": 3
   },
   "file_extension": ".py",
   "mimetype": "text/x-python",
   "name": "python",
   "nbconvert_exporter": "python",
   "pygments_lexer": "ipython3",
   "version": "3.13.1"
  }
 },
 "nbformat": 4,
 "nbformat_minor": 2
}
